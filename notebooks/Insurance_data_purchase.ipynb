{
 "cells": [
  {
   "cell_type": "code",
   "execution_count": 1,
   "id": "1ce6894d",
   "metadata": {},
   "outputs": [],
   "source": [
    "import numpy as np\n",
    "import pickle\n",
    "from scipy.stats import entropy\n",
    "import sys\n",
    "sys.path.append('../')"
   ]
  },
  {
   "cell_type": "markdown",
   "id": "2750eccd",
   "metadata": {},
   "source": [
    "- This notebook uses the two outputs of `launcher.py` with `001IY`."
   ]
  },
  {
   "cell_type": "code",
   "execution_count": 2,
   "id": "f67a9771",
   "metadata": {},
   "outputs": [],
   "source": [
    "config_files=pickle.load(open('../results/config.pickle','rb'))\n",
    "special_log=np.load('../results/special_log')"
   ]
  },
  {
   "cell_type": "code",
   "execution_count": 3,
   "id": "df7b4571",
   "metadata": {
    "scrolled": false
   },
   "outputs": [
    {
     "data": {
      "text/plain": [
       "dict_keys(['use-gpu', 'competition', 'competition_args', 'dataset', 'dataset_init', 'dargs', 'print-freq', 'print-test-freq', 'max-iters', 'special-log', 'seed', 'agents', 'r_id'])"
      ]
     },
     "execution_count": 3,
     "metadata": {},
     "output_type": "execute_result"
    }
   ],
   "source": [
    "config_files.keys() # implementation setting is defined in config.pickle file"
   ]
  },
  {
   "cell_type": "code",
   "execution_count": 4,
   "id": "5343cfd6",
   "metadata": {},
   "outputs": [
    {
     "name": "stdout",
     "output_type": "stream",
     "text": [
      "The nubmer of budgets is 0\n",
      "Alpha: 4.0\n"
     ]
    }
   ],
   "source": [
    "n_budget=config_files['agents'][0]['args']['n_budget']\n",
    "alpha=config_files['competition_args']['alpha'] # alpha used in Equation (1) of the manuscript\n",
    "print(f'The nubmer of budgets is {n_budget}')\n",
    "print(f'Alpha: {alpha}')"
   ]
  },
  {
   "cell_type": "code",
   "execution_count": 5,
   "id": "b859101d",
   "metadata": {},
   "outputs": [
    {
     "name": "stdout",
     "output_type": "stream",
     "text": [
      "Speical log outputs:  ['agg_corr', 'y_hats', 'test_pred', 'market_share_list']\n"
     ]
    }
   ],
   "source": [
    "print('Speical log outputs: ', special_log.files) # there are four outcomes\n",
    "y_test_true = special_log['test_pred'][-1] \n",
    "y_test_pred = special_log['test_pred'][:-1] "
   ]
  },
  {
   "cell_type": "code",
   "execution_count": 6,
   "id": "f055059a",
   "metadata": {},
   "outputs": [
    {
     "name": "stdout",
     "output_type": "stream",
     "text": [
      "The number of competitors: 18\n",
      "The number of test rounds: 3000\n"
     ]
    }
   ],
   "source": [
    "print(f'The number of competitors: {y_test_pred.shape[0]}')\n",
    "print(f'The number of test rounds: {y_test_pred.shape[1]}')"
   ]
  },
  {
   "cell_type": "markdown",
   "id": "7c477429",
   "metadata": {},
   "source": [
    "# Main evaluation metrics"
   ]
  },
  {
   "cell_type": "code",
   "execution_count": 7,
   "id": "97ecadce",
   "metadata": {},
   "outputs": [
    {
     "name": "stdout",
     "output_type": "stream",
     "text": [
      "Overall quality is 0.517\n",
      "Quality that users experience is 0.982\n",
      "Diversity is 0.017\n"
     ]
    }
   ],
   "source": [
    "N_competitors=y_test_pred.shape[0]\n",
    "average_quality = np.mean((y_test_pred == y_test_true), axis=0)\n",
    "QoE=np.mean(average_quality*np.exp(alpha)/(average_quality*np.exp(alpha)+1-average_quality))\n",
    "entropy_list = [entropy(np.unique(y_test_pred[:,j], return_counts=True))[1]/N_competitors for j in range(y_test_pred.shape[1])]\n",
    "diversity = np.mean(entropy_list)\n",
    "            \n",
    "print(f'Overall quality is {np.mean(average_quality):.3f}')\n",
    "print(f'Quality that users experience is {QoE:.3f}')\n",
    "print(f'Diversity is {diversity:.3f}')\n"
   ]
  },
  {
   "cell_type": "code",
   "execution_count": null,
   "id": "cda2bb4f",
   "metadata": {},
   "outputs": [],
   "source": []
  },
  {
   "cell_type": "code",
   "execution_count": null,
   "id": "69d28bff",
   "metadata": {},
   "outputs": [],
   "source": []
  }
 ],
 "metadata": {
  "kernelspec": {
   "display_name": "Python 3 (ipykernel)",
   "language": "python",
   "name": "python3"
  },
  "language_info": {
   "codemirror_mode": {
    "name": "ipython",
    "version": 3
   },
   "file_extension": ".py",
   "mimetype": "text/x-python",
   "name": "python",
   "nbconvert_exporter": "python",
   "pygments_lexer": "ipython3",
   "version": "3.10.4"
  }
 },
 "nbformat": 4,
 "nbformat_minor": 5
}
